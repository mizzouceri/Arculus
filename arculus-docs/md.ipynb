{
 "cells": [
  {
   "cell_type": "code",
   "execution_count": 3,
   "metadata": {},
   "outputs": [
    {
     "name": "stdout",
     "output_type": "stream",
     "text": [
      "Markdown file generated at: output_docs\\Auth.md\n",
      "Markdown file generated at: output_docs\\User.md\n",
      "Markdown file generated at: output_docs\\Device.md\n",
      "Markdown file generated at: output_docs\\Policy.md\n",
      "Markdown file generated at: output_docs\\Task.md\n",
      "Markdown file generated at: output_docs\\Utilization.md\n",
      "Markdown file generated at: output_docs\\Mission.md\n",
      "Markdown file generated at: output_docs\\Honeypot.md\n"
     ]
    }
   ],
   "source": [
    "import json\n",
    "import os\n",
    "\n",
    "def generate_markdown_from_json_file(json_file_path, output_directory):\n",
    "    with open(json_file_path, 'r') as json_file:\n",
    "        data = json.load(json_file)\n",
    "    \n",
    "    if not os.path.exists(output_directory):\n",
    "        os.makedirs(output_directory)\n",
    "\n",
    "    for item in data['item']:\n",
    "        markdown_content = f\"# {item['name']} API Documentation\\n\\n\"\n",
    "        markdown_content += f\"{item.get('description', '')}\\n\\n\"\n",
    "        \n",
    "        for sub_item in item['item']:\n",
    "            markdown_content += f\"## {sub_item['name']}\\n\\n\"\n",
    "            request = sub_item['request']\n",
    "            markdown_content += f\"**Method**: {request['method']}\\n\\n\"\n",
    "            markdown_content += f\"**URL**: {request['url']['raw']}\\n\\n\"\n",
    "            markdown_content += f\"**Description**: {request.get('description', '')}\\n\\n\"\n",
    "            \n",
    "            if 'query' in request['url'] and request['url']['query']:\n",
    "                markdown_content += \"### Query Parameters\\n\"\n",
    "                for query_param in request['url']['query']:\n",
    "                    markdown_content += f\"- **{query_param['key']}**: {query_param['value']}\\n\"\n",
    "                markdown_content += \"\\n\"\n",
    "\n",
    "            if 'body' in request and request['body']:\n",
    "                markdown_content += \"### Request Body\\n\"\n",
    "                markdown_content += \"```json\\n\"\n",
    "                markdown_content += f\"{request['body']['raw']}\\n\"\n",
    "                markdown_content += \"```\\n\\n\"\n",
    "            \n",
    "            if 'response' in sub_item and sub_item['response']:\n",
    "                for response in sub_item['response']:\n",
    "                    markdown_content += \"### Response\\n\"\n",
    "                    markdown_content += f\"**Status**: {response['status']} ({response['code']})\\n\\n\"\n",
    "                    markdown_content += \"```json\\n\"\n",
    "                    markdown_content += f\"{response['body']}\\n\"\n",
    "                    markdown_content += \"```\\n\\n\"\n",
    "\n",
    "        output_file_path = os.path.join(output_directory, f\"{item['name']}.md\")\n",
    "        with open(output_file_path, 'w') as output_file:\n",
    "            output_file.write(markdown_content)\n",
    "\n",
    "        print(f\"Markdown file generated at: {output_file_path}\")\n",
    "\n",
    "# Example usage\n",
    "json_file_path = 'collection.json'\n",
    "output_directory = 'output_docs'\n",
    "generate_markdown_from_json_file(json_file_path, output_directory)\n"
   ]
  },
  {
   "cell_type": "code",
   "execution_count": null,
   "metadata": {},
   "outputs": [],
   "source": []
  }
 ],
 "metadata": {
  "kernelspec": {
   "display_name": "Python 3",
   "language": "python",
   "name": "python3"
  },
  "language_info": {
   "codemirror_mode": {
    "name": "ipython",
    "version": 3
   },
   "file_extension": ".py",
   "mimetype": "text/x-python",
   "name": "python",
   "nbconvert_exporter": "python",
   "pygments_lexer": "ipython3",
   "version": "3.11.3"
  }
 },
 "nbformat": 4,
 "nbformat_minor": 2
}
